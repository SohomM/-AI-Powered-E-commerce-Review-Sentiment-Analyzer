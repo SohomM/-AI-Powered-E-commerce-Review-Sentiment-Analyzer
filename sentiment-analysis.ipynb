{
 "cells": [
  {
   "cell_type": "code",
   "execution_count": null,
   "id": "45bfeff5-a578-4ef7-b99f-ecbc5dad5335",
   "metadata": {},
   "outputs": [],
   "source": [
    "from textblob import TextBlob\n",
    "import pandas as pd\n",
    "\n",
    "# Sample dataset (replace with real e-commerce reviews)\n",
    "data = {\"text\": [\"Great product!\", \"Terrible quality.\", \"It's okay.\"]}\n",
    "df = pd.DataFrame(data)\n",
    "\n",
    "# Analyze sentiment\n",
    "df['sentiment'] = df['text'].apply(lambda x: TextBlob(x).sentiment.polarity)\n",
    "df['label'] = df['sentiment'].apply(lambda x: \"Positive\" if x > 0 else (\"Negative\" if x < 0 else \"Neutral\"))\n",
    "df"
   ]
  }
 ],
 "metadata": {
  "kernelspec": {
   "display_name": "Python 3 (ipykernel)",
   "language": "python",
   "name": "python3"
  },
  "language_info": {
   "codemirror_mode": {
    "name": "ipython",
    "version": 3
   },
   "file_extension": ".py",
   "mimetype": "text/x-python",
   "name": "python",
   "nbconvert_exporter": "python",
   "pygments_lexer": "ipython3",
   "version": "3.12.3"
  }
 },
 "nbformat": 4,
 "nbformat_minor": 5
}
